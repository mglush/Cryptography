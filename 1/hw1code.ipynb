{
 "cells": [
  {
   "cell_type": "markdown",
   "id": "42be3568",
   "metadata": {},
   "source": [
    "## CS178 F21 Homework 1 Problem 1\n",
    "#### By: Michael Glushchenko"
   ]
  },
  {
   "cell_type": "code",
   "execution_count": 156,
   "id": "1f88a179",
   "metadata": {},
   "outputs": [],
   "source": [
    "import numpy as np\n",
    "import string"
   ]
  },
  {
   "cell_type": "code",
   "execution_count": 157,
   "id": "457af64b",
   "metadata": {},
   "outputs": [],
   "source": [
    "test = \"pynnouolnx\" #should be \"helloworld\" when decoded\n",
    "cipher1 = \"gugnnmcssyyx\" #question 1 part 1\n",
    "cipher2 = \"bauoligjqpwlx\" #question 2 part 2"
   ]
  },
  {
   "cell_type": "code",
   "execution_count": 158,
   "id": "aa9c586d",
   "metadata": {},
   "outputs": [],
   "source": [
    "# encryption function\n",
    "def f(x):\n",
    "    return (pow(x,5) - 3*pow(x,3) + 7*x - 4) % 26"
   ]
  },
  {
   "cell_type": "code",
   "execution_count": 159,
   "id": "a91d2aa9",
   "metadata": {},
   "outputs": [],
   "source": [
    "alphabet = np.array(list(string.ascii_lowercase))\n",
    "\n",
    "temp = np.arange(26)\n",
    "for i in temp:\n",
    "    temp[i] = f(i)\n",
    "key = alphabet[temp]"
   ]
  },
  {
   "cell_type": "code",
   "execution_count": 160,
   "id": "04497d83",
   "metadata": {},
   "outputs": [],
   "source": [
    "# decryption function\n",
    "def decrypt(word):\n",
    "    result = \"\"\n",
    "    for letter in list(word):\n",
    "        result += alphabet[list(key).index(str(letter))]\n",
    "    return result"
   ]
  },
  {
   "cell_type": "code",
   "execution_count": 161,
   "id": "3346520b",
   "metadata": {},
   "outputs": [
    {
     "name": "stdout",
     "output_type": "stream",
     "text": [
      "Results:  helloworld iwillsucceed byworkinghard\n"
     ]
    }
   ],
   "source": [
    "print(\"Results: \", decrypt(test), decrypt(cipher1), decrypt(cipher2))"
   ]
  }
 ],
 "metadata": {
  "kernelspec": {
   "display_name": "Python 3",
   "language": "python",
   "name": "python3"
  },
  "language_info": {
   "codemirror_mode": {
    "name": "ipython",
    "version": 3
   },
   "file_extension": ".py",
   "mimetype": "text/x-python",
   "name": "python",
   "nbconvert_exporter": "python",
   "pygments_lexer": "ipython3",
   "version": "3.8.8"
  }
 },
 "nbformat": 4,
 "nbformat_minor": 5
}
